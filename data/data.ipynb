{
 "cells": [
  {
   "cell_type": "code",
   "execution_count": 1,
   "metadata": {},
   "outputs": [],
   "source": [
    "import pandas as pd\n",
    "import numpy as np"
   ]
  },
  {
   "cell_type": "code",
   "execution_count": 2,
   "metadata": {},
   "outputs": [],
   "source": [
    "df = pd.read_csv('OH.csv') # Large file"
   ]
  },
  {
   "cell_type": "code",
   "execution_count": 3,
   "metadata": {
    "scrolled": true
   },
   "outputs": [
    {
     "name": "stdout",
     "output_type": "stream",
     "text": [
      "<class 'pandas.core.frame.DataFrame'>\n",
      "RangeIndex: 6165997 entries, 0 to 6165996\n",
      "Data columns (total 26 columns):\n",
      " #   Column                 Dtype  \n",
      "---  ------                 -----  \n",
      " 0   id                     object \n",
      " 1   state                  object \n",
      " 2   stop_date              object \n",
      " 3   stop_time              object \n",
      " 4   location_raw           float64\n",
      " 5   county_name            object \n",
      " 6   county_fips            float64\n",
      " 7   fine_grained_location  object \n",
      " 8   police_department      float64\n",
      " 9   driver_gender          object \n",
      " 10  driver_age_raw         float64\n",
      " 11  driver_age             float64\n",
      " 12  driver_race_raw        object \n",
      " 13  driver_race            object \n",
      " 14  violation_raw          object \n",
      " 15  violation              object \n",
      " 16  search_conducted       bool   \n",
      " 17  search_type_raw        object \n",
      " 18  search_type            object \n",
      " 19  contraband_found       object \n",
      " 20  stop_outcome           object \n",
      " 21  is_arrested            bool   \n",
      " 22  lat                    float64\n",
      " 23  lon                    float64\n",
      " 24  officer_id             float64\n",
      " 25  drugs_related_stop     bool   \n",
      "dtypes: bool(3), float64(8), object(15)\n",
      "memory usage: 1.1+ GB\n"
     ]
    }
   ],
   "source": [
    "df.info()"
   ]
  },
  {
   "cell_type": "markdown",
   "metadata": {},
   "source": [
    "#### Remove columns that are uninformative or all nulls"
   ]
  },
  {
   "cell_type": "code",
   "execution_count": 10,
   "metadata": {},
   "outputs": [],
   "source": [
    "relevant_cols = ['stop_date','stop_time','location_raw','driver_gender','driver_race','driver_race_raw','violation',\n",
    "                 'search_conducted','contraband_found','is_arrested','drugs_related_stop']\n",
    "\n",
    "data = df[relevant_cols].copy()"
   ]
  },
  {
   "cell_type": "markdown",
   "metadata": {},
   "source": [
    "#### Replace time with hour and date with a month and year column"
   ]
  },
  {
   "cell_type": "code",
   "execution_count": 11,
   "metadata": {},
   "outputs": [],
   "source": [
    "data['stop_time'] = data['stop_time'].apply(lambda x: x.split(':')[0])\n",
    "data['stop_year'] = data['stop_date'].apply(lambda x: x.split('-')[0])\n",
    "data['stop_month'] = data['stop_date'].apply(lambda x: x.split('-')[1])\n",
    "data.drop(['stop_date', 'stop_time'], inplace=True, axis=1)"
   ]
  },
  {
   "cell_type": "markdown",
   "metadata": {},
   "source": [
    "#### Keep 20 top locations and populate rest with None to be imputed later"
   ]
  },
  {
   "cell_type": "code",
   "execution_count": 12,
   "metadata": {},
   "outputs": [],
   "source": [
    "top_locations = list(data['location_raw'].value_counts().keys()[:20])\n",
    "data['location_raw'] = data['location_raw'].apply(lambda x: int(x) if x in top_locations else None)"
   ]
  },
  {
   "cell_type": "markdown",
   "metadata": {},
   "source": [
    "#### Joining the two driver race columns and uniting the information contained in both"
   ]
  },
  {
   "cell_type": "code",
   "execution_count": 13,
   "metadata": {},
   "outputs": [
    {
     "name": "stderr",
     "output_type": "stream",
     "text": [
      "/Library/Frameworks/Python.framework/Versions/3.7/lib/python3.7/site-packages/pandas/core/indexing.py:1732: SettingWithCopyWarning: \n",
      "A value is trying to be set on a copy of a slice from a DataFrame\n",
      "\n",
      "See the caveats in the documentation: https://pandas.pydata.org/pandas-docs/stable/user_guide/indexing.html#returning-a-view-versus-a-copy\n",
      "  self._setitem_single_block(indexer, value, name)\n"
     ]
    }
   ],
   "source": [
    "data['driver_race'].loc[data['driver_race']=='Other'] = data['driver_race_raw'].loc[data['driver_race']=='Other']\n",
    "data.drop('driver_race_raw',axis=1,inplace=True)"
   ]
  },
  {
   "cell_type": "code",
   "execution_count": 22,
   "metadata": {},
   "outputs": [],
   "source": [
    "def violation_mapping(x):\n",
    "    '''\n",
    "    Maps violations from word descriptors to categories with decreasing severity (0 is most severe)\n",
    "    '''\n",
    "    severity_map = {\n",
    "        'dui':0,\n",
    "        'speeding':1,\n",
    "        'stop sign/light':2,\n",
    "        'license':3,\n",
    "        'cell phone':4,\n",
    "        'paperwork':5,\n",
    "        'registration/plates':6,\n",
    "        'safe movement':7,\n",
    "        'seat belt':8,    \n",
    "        'equipment':9,\n",
    "        'lights':10,\n",
    "        'truck':11,\n",
    "        'other':12,\n",
    "        'other (non-mapped)':13\n",
    "    }\n",
    "    \n",
    "    viols = []\n",
    "    for k,v in severity_map.items():\n",
    "        if (k in x.lower()):\n",
    "            viols.append(v)  \n",
    "    return min(viols)"
   ]
  },
  {
   "cell_type": "code",
   "execution_count": 26,
   "metadata": {},
   "outputs": [],
   "source": [
    "data['violations_numbered'] = data['violation'].fillna('other (non-mapped)').apply(violation_mapping)\n",
    "data.drop('violation',axis=1,inplace=True)"
   ]
  },
  {
   "cell_type": "code",
   "execution_count": 28,
   "metadata": {},
   "outputs": [],
   "source": [
    "categorical = list(data.columns)\n",
    "categorical.remove('is_arrested')"
   ]
  },
  {
   "cell_type": "code",
   "execution_count": 29,
   "metadata": {},
   "outputs": [],
   "source": [
    "def replace_nan_categorical(df,column):\n",
    "    prob = dict(df[column].value_counts()/len(df))\n",
    "    keys = list(prob.keys())\n",
    "    sum_prob = sum(prob.values())\n",
    "    for k,v in prob.items():\n",
    "        prob[k] = prob[k]/sum_prob\n",
    "    prob_list = list(prob.values())\n",
    "    to_fill = np.random.choice(keys, len(df[column].loc[df[column].isnull()]), p = prob_list) \n",
    "    df[column].loc[df[column].isnull()] = to_fill   \n",
    "    return df"
   ]
  },
  {
   "cell_type": "code",
   "execution_count": 30,
   "metadata": {},
   "outputs": [
    {
     "name": "stderr",
     "output_type": "stream",
     "text": [
      "/Library/Frameworks/Python.framework/Versions/3.7/lib/python3.7/site-packages/pandas/core/indexing.py:1732: SettingWithCopyWarning: \n",
      "A value is trying to be set on a copy of a slice from a DataFrame\n",
      "\n",
      "See the caveats in the documentation: https://pandas.pydata.org/pandas-docs/stable/user_guide/indexing.html#returning-a-view-versus-a-copy\n",
      "  self._setitem_single_block(indexer, value, name)\n"
     ]
    }
   ],
   "source": [
    "for c in categorical:\n",
    "    data = replace_nan_categorical(data,c)"
   ]
  },
  {
   "cell_type": "code",
   "execution_count": 41,
   "metadata": {},
   "outputs": [],
   "source": [
    "data['is_arrested'] = data['is_arrested'].apply(lambda x: 1 if x == True else 0)"
   ]
  },
  {
   "cell_type": "code",
   "execution_count": 42,
   "metadata": {},
   "outputs": [],
   "source": [
    "dummies = pd.get_dummies(data,columns=categorical)\n",
    "dummies.to_csv('OH_cleaned.csv',index=False)\n",
    "sampled = dummies.sample(frac=0.1,random_state=2018).reset_index(drop=True)\n",
    "sampled.to_csv('OH_sampled_cleaned.csv',index=False)"
   ]
  },
  {
   "cell_type": "code",
   "execution_count": null,
   "metadata": {},
   "outputs": [],
   "source": []
  }
 ],
 "metadata": {
  "kernelspec": {
   "display_name": "Python 3",
   "language": "python",
   "name": "python3"
  },
  "language_info": {
   "codemirror_mode": {
    "name": "ipython",
    "version": 3
   },
   "file_extension": ".py",
   "mimetype": "text/x-python",
   "name": "python",
   "nbconvert_exporter": "python",
   "pygments_lexer": "ipython3",
   "version": "3.7.1"
  },
  "vscode": {
   "interpreter": {
    "hash": "aee8b7b246df8f9039afb4144a1f6fd8d2ca17a180786b69acc140d282b71a49"
   }
  }
 },
 "nbformat": 4,
 "nbformat_minor": 2
}
