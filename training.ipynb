{
 "cells": [
  {
   "cell_type": "code",
   "execution_count": 1,
   "metadata": {},
   "outputs": [],
   "source": [
    "import pandas as pd\n",
    "import numpy as np\n",
    "import torch"
   ]
  },
  {
   "cell_type": "code",
   "execution_count": 2,
   "metadata": {},
   "outputs": [],
   "source": [
    "df = pd.read_csv('german.data', sep = ' ', header = None)"
   ]
  },
  {
   "cell_type": "code",
   "execution_count": 3,
   "metadata": {},
   "outputs": [],
   "source": [
    "x, s, y = df[[1,4,7,10]], df[12],df[20]"
   ]
  },
  {
   "cell_type": "code",
   "execution_count": 4,
   "metadata": {},
   "outputs": [],
   "source": [
    "def relabel(y):\n",
    "    if y == 1: return 0\n",
    "    elif y == 2:return 1"
   ]
  },
  {
   "cell_type": "code",
   "execution_count": 5,
   "metadata": {},
   "outputs": [],
   "source": [
    "x=(x-x.min())/(x.max() - x.min())\n",
    "s=(s-s.min())/(s.max() - s.min())\n",
    "y = y.apply(relabel)"
   ]
  },
  {
   "cell_type": "code",
   "execution_count": 6,
   "metadata": {},
   "outputs": [],
   "source": [
    "data = {\n",
    "    'x': np.array(x, dtype=np.float32),\n",
    "    's': np.reshape(np.array(s, dtype=np.float32), (-1,1),), \n",
    "    'y': np.reshape(np.array(y, dtype=np.float32), (-1,1))\n",
    "    \n",
    "}"
   ]
  },
  {
   "cell_type": "code",
   "execution_count": 7,
   "metadata": {},
   "outputs": [],
   "source": [
    "from model import VFAE, train, DictionaryDataset\n",
    "from loss import VFAE_loss\n",
    "from torch.utils.data import DataLoader"
   ]
  },
  {
   "cell_type": "code",
   "execution_count": 8,
   "metadata": {},
   "outputs": [],
   "source": [
    "x_dim = 4\n",
    "s_dim = 1\n",
    "y_dim = 1\n",
    "z1_enc_dim = 60\n",
    "z2_enc_dim = 60\n",
    "z1_dec_dim = 60\n",
    "x_dec_dim = 60\n",
    "z_dim = 50\n",
    "dropout_rate = 0.4\n",
    "\n",
    "alpha = 1\n",
    "beta = 0\n",
    "gamma = 1.0\n",
    "mmd_dims = 500"
   ]
  },
  {
   "cell_type": "code",
   "execution_count": 9,
   "metadata": {},
   "outputs": [],
   "source": [
    "vfae = VFAE(x_dim, s_dim, y_dim, z1_enc_dim, z2_enc_dim, z1_dec_dim, x_dec_dim, z_dim, dropout_rate, )\n",
    "optim = torch.optim.Adam(vfae.parameters(),lr=1e-3)"
   ]
  },
  {
   "cell_type": "code",
   "execution_count": 10,
   "metadata": {},
   "outputs": [],
   "source": [
    "dataset = DictionaryDataset(data)\n",
    "train_dataloader = DataLoader(dataset, batch_size=200, shuffle=True)\n",
    "loss_function = VFAE_loss(alpha=alpha, beta=beta, gamma=gamma, dims_out=500)"
   ]
  },
  {
   "cell_type": "code",
   "execution_count": 11,
   "metadata": {},
   "outputs": [
    {
     "name": "stdout",
     "output_type": "stream",
     "text": [
      "Train Epoch: 0 [0/1000 (0%)]\tLoss: 28.940546\n",
      "\n",
      "Train Epoch: 0 Average loss: 0.1298\n",
      "Train Epoch: 1 [0/1000 (0%)]\tLoss: 22.802956\n",
      "\n",
      "Train Epoch: 1 Average loss: 0.1048\n",
      "Train Epoch: 2 [0/1000 (0%)]\tLoss: 18.556105\n",
      "\n",
      "Train Epoch: 2 Average loss: 0.0838\n",
      "Train Epoch: 3 [0/1000 (0%)]\tLoss: 14.833223\n",
      "\n",
      "Train Epoch: 3 Average loss: 0.0618\n",
      "Train Epoch: 4 [0/1000 (0%)]\tLoss: 9.292253\n",
      "\n",
      "Train Epoch: 4 Average loss: 0.0379\n",
      "Train Epoch: 5 [0/1000 (0%)]\tLoss: 5.610286\n",
      "\n",
      "Train Epoch: 5 Average loss: 0.0246\n",
      "Train Epoch: 6 [0/1000 (0%)]\tLoss: 5.386620\n",
      "\n",
      "Train Epoch: 6 Average loss: 0.0378\n",
      "Train Epoch: 7 [0/1000 (0%)]\tLoss: 13.074700\n",
      "\n",
      "Train Epoch: 7 Average loss: 0.0849\n",
      "Train Epoch: 8 [0/1000 (0%)]\tLoss: 18.448116\n",
      "\n",
      "Train Epoch: 8 Average loss: 0.0875\n",
      "Train Epoch: 9 [0/1000 (0%)]\tLoss: 15.741507\n",
      "\n",
      "Train Epoch: 9 Average loss: 0.0644\n",
      "Train Epoch: 10 [0/1000 (0%)]\tLoss: 8.671811\n",
      "\n",
      "Train Epoch: 10 Average loss: 0.0370\n",
      "Train Epoch: 11 [0/1000 (0%)]\tLoss: 8.065286\n",
      "\n",
      "Train Epoch: 11 Average loss: 0.0571\n",
      "Train Epoch: 12 [0/1000 (0%)]\tLoss: 18.714628\n",
      "\n",
      "Train Epoch: 12 Average loss: 0.1123\n",
      "Train Epoch: 13 [0/1000 (0%)]\tLoss: 23.657738\n",
      "\n",
      "Train Epoch: 13 Average loss: 0.0992\n",
      "Train Epoch: 14 [0/1000 (0%)]\tLoss: 14.009696\n",
      "\n",
      "Train Epoch: 14 Average loss: 0.0630\n",
      "Train Epoch: 15 [0/1000 (0%)]\tLoss: 9.661102\n",
      "\n",
      "Train Epoch: 15 Average loss: 0.0504\n",
      "Train Epoch: 16 [0/1000 (0%)]\tLoss: 10.286886\n",
      "\n",
      "Train Epoch: 16 Average loss: 0.0492\n",
      "Train Epoch: 17 [0/1000 (0%)]\tLoss: 8.797884\n",
      "\n",
      "Train Epoch: 17 Average loss: 0.0474\n",
      "Train Epoch: 18 [0/1000 (0%)]\tLoss: 10.618035\n",
      "\n",
      "Train Epoch: 18 Average loss: 0.0639\n",
      "Train Epoch: 19 [0/1000 (0%)]\tLoss: 17.858732\n",
      "\n",
      "Train Epoch: 19 Average loss: 0.1022\n",
      "Train Epoch: 20 [0/1000 (0%)]\tLoss: 23.601744\n",
      "\n",
      "Train Epoch: 20 Average loss: 0.1070\n",
      "Train Epoch: 21 [0/1000 (0%)]\tLoss: 19.513052\n",
      "\n",
      "Train Epoch: 21 Average loss: 0.0907\n",
      "Train Epoch: 22 [0/1000 (0%)]\tLoss: 22.742907\n",
      "\n",
      "Train Epoch: 22 Average loss: 0.1255\n",
      "Train Epoch: 23 [0/1000 (0%)]\tLoss: 23.599516\n",
      "\n",
      "Train Epoch: 23 Average loss: 0.1185\n",
      "Train Epoch: 24 [0/1000 (0%)]\tLoss: 20.221937\n",
      "\n",
      "Train Epoch: 24 Average loss: 0.0943\n"
     ]
    }
   ],
   "source": [
    "for e in range(25):\n",
    "    train(e, vfae, train_dataloader, loss_function, optim, print_freq=15)"
   ]
  },
  {
   "cell_type": "code",
   "execution_count": null,
   "metadata": {},
   "outputs": [],
   "source": []
  },
  {
   "cell_type": "code",
   "execution_count": null,
   "metadata": {},
   "outputs": [],
   "source": []
  }
 ],
 "metadata": {
  "kernelspec": {
   "display_name": "Python 3",
   "language": "python",
   "name": "python3"
  },
  "language_info": {
   "codemirror_mode": {
    "name": "ipython",
    "version": 3
   },
   "file_extension": ".py",
   "mimetype": "text/x-python",
   "name": "python",
   "nbconvert_exporter": "python",
   "pygments_lexer": "ipython3",
   "version": "3.7.1"
  },
  "vscode": {
   "interpreter": {
    "hash": "aee8b7b246df8f9039afb4144a1f6fd8d2ca17a180786b69acc140d282b71a49"
   }
  }
 },
 "nbformat": 4,
 "nbformat_minor": 4
}
